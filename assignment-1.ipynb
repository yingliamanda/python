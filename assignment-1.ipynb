{
 "cells": [
  {
   "cell_type": "code",
   "execution_count": 1,
   "metadata": {},
   "outputs": [],
   "source": [
    "def anagram_checker(word_a, word_b):\n",
    "\n",
    "\n",
    "        letters_a = sorted({letter.lower() for letter in word_a})\n",
    "        letters_b = sorted({letter.lower() for letter in word_b})\n",
    "        return letters_a == letters_b\n",
    "\n"
   ]
  },
  {
   "cell_type": "code",
   "execution_count": 2,
   "metadata": {},
   "outputs": [],
   "source": [
    "def anagram_checker(word_a, word_b, is_case_sensitive):\n",
    "\n",
    "    if is_case_sensitive == True:\n",
    "        letters_a = sorted({letter for letter in word_a})\n",
    "        letters_b = sorted({letter for letter in word_b})\n",
    "        return letters_a == letters_b\n",
    "    else:\n",
    "        letters_a = sorted({letter.lower() for letter in word_a})\n",
    "        letters_b = sorted({letter.lower() for letter in word_b})\n",
    "        return letters_a == letters_b"
   ]
  },
  {
   "cell_type": "code",
   "execution_count": null,
   "metadata": {},
   "outputs": [],
   "source": []
  }
 ],
 "metadata": {
  "kernelspec": {
   "display_name": "base",
   "language": "python",
   "name": "python3"
  },
  "language_info": {
   "codemirror_mode": {
    "name": "ipython",
    "version": 3
   },
   "file_extension": ".py",
   "mimetype": "text/x-python",
   "name": "python",
   "nbconvert_exporter": "python",
   "pygments_lexer": "ipython3",
   "version": "3.11.3"
  }
 },
 "nbformat": 4,
 "nbformat_minor": 2
}
